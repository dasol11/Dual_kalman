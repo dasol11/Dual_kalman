{
 "cells": [
  {
   "cell_type": "code",
   "execution_count": 86,
   "id": "naked-dover",
   "metadata": {},
   "outputs": [],
   "source": [
    "from glob import glob\n",
    "import pandas as pd\n",
    "from matplotlib import pyplot as plt"
   ]
  },
  {
   "cell_type": "code",
   "execution_count": 140,
   "id": "previous-coast",
   "metadata": {},
   "outputs": [
    {
     "name": "stdout",
     "output_type": "stream",
     "text": [
      "C:\\Users\\qorwl\\yolov5_py38\\yolov5-master\\runs\\detect\n"
     ]
    }
   ],
   "source": [
    "%cd C:\\Users\\qorwl\\yolov5_py38\\yolov5-master\\runs\\detect\\"
   ]
  },
  {
   "cell_type": "code",
   "execution_count": 141,
   "id": "civilian-license",
   "metadata": {},
   "outputs": [
    {
     "name": "stdout",
     "output_type": "stream",
     "text": [
      "282\n",
      "282\n"
     ]
    }
   ],
   "source": [
    "txt_list = glob('./test_pistol1_yolo/labels/*.txt') #YOLO\n",
    "print(len(txt_list))\n",
    "txt_list2 = glob('./test_pistol1_Kalman7/labels/*.txt')#YOLO\n",
    "print(len(txt_list2))"
   ]
  },
  {
   "cell_type": "code",
   "execution_count": 142,
   "id": "renewable-flash",
   "metadata": {},
   "outputs": [],
   "source": [
    "with open('./test_pistol1_yolo/test.txt', 'w') as f:\n",
    "  f.write('\\n'.join(txt_list) + '\\n')"
   ]
  },
  {
   "cell_type": "code",
   "execution_count": 143,
   "id": "green-seller",
   "metadata": {},
   "outputs": [],
   "source": [
    "with open('./test_pistol1_Kalman7/test2.txt', 'w') as f:\n",
    "  f.write('\\n'.join(txt_list2) + '\\n')"
   ]
  },
  {
   "cell_type": "code",
   "execution_count": 144,
   "id": "remarkable-recall",
   "metadata": {},
   "outputs": [
    {
     "name": "stdout",
     "output_type": "stream",
     "text": [
      "283\n"
     ]
    }
   ],
   "source": [
    "filenames = []\n",
    "f = open('./test_pistol1_yolo/test.txt', 'r')\n",
    "while True:\n",
    "    line = f.readline()\n",
    "    line = line[0:-1]\n",
    "    filenames.append((line))\n",
    "    if not line: \n",
    "        print(len(filenames))\n",
    "        break\n",
    "    \n",
    "f.close()"
   ]
  },
  {
   "cell_type": "code",
   "execution_count": 145,
   "id": "altered-forest",
   "metadata": {},
   "outputs": [
    {
     "name": "stdout",
     "output_type": "stream",
     "text": [
      "283\n"
     ]
    }
   ],
   "source": [
    "filenames2 = []\n",
    "f= open('./test_pistol1_Kalman7/test2.txt', 'r')\n",
    "while True:\n",
    "    line2 = f.readline()\n",
    "    line2 = line2[0:-1]\n",
    "    filenames2.append((line2))\n",
    "    if not line2: \n",
    "        print(len(filenames2))\n",
    "        break\n",
    "    \n",
    "f.close()"
   ]
  },
  {
   "cell_type": "code",
   "execution_count": 146,
   "id": "hearing-greek",
   "metadata": {},
   "outputs": [],
   "source": [
    "with open('./test_pistol1_yolo/merge.txt', 'w') as outfile:\n",
    "    for filename in filenames:\n",
    "        if filename == '':\n",
    "            break\n",
    "        with open(filename) as file:\n",
    "            for line in file:\n",
    "                outfile.write(line)\n"
   ]
  },
  {
   "cell_type": "code",
   "execution_count": 147,
   "id": "variable-macintosh",
   "metadata": {},
   "outputs": [],
   "source": [
    "with open('./test_pistol1_Kalman7/merge2.txt', 'w') as outfile:\n",
    "    for filename2 in filenames2:\n",
    "        if filename2 == '':\n",
    "            break\n",
    "        with open(filename2) as file:\n",
    "            for line2 in file:\n",
    "                outfile.write(line2)"
   ]
  },
  {
   "cell_type": "code",
   "execution_count": 148,
   "id": "brave-rescue",
   "metadata": {},
   "outputs": [],
   "source": [
    "df = pd.read_csv(\n",
    "    './test_pistol1_yolo/merge.txt', sep=\" \",header=None)\n",
    "\n",
    "df2 = pd.read_csv(\n",
    "    './test_pistol1_Kalman7/merge2.txt', sep=\" \",header=None)\n"
   ]
  },
  {
   "cell_type": "code",
   "execution_count": 149,
   "id": "downtown-turner",
   "metadata": {},
   "outputs": [
    {
     "name": "stdout",
     "output_type": "stream",
     "text": [
      "    0    Yolo_x    Yolo_y    Yolo_w    Yolo_h  Yolo_conf\n",
      "7   0  0.495313  0.465278  0.325000  0.486111   0.903616\n",
      "8   0  0.495313  0.466667  0.326042  0.483333   0.906952\n",
      "9   0  0.494271  0.468519  0.323958  0.483333   0.907508\n",
      "10  0  0.494271  0.471759  0.322917  0.486111   0.906357\n",
      "11  0  0.492969  0.476389  0.322396  0.487963   0.907389\n",
      "12  0  0.509896  0.329630  0.334375  0.531482   0.869529\n",
      "13  0  0.492188  0.476852  0.322917  0.487037   0.907146\n",
      "14  0  0.491406  0.477778  0.323438  0.488889   0.905901\n"
     ]
    }
   ],
   "source": [
    "df.rename(columns = {1 : 'Yolo_x', 2:'Yolo_y',3:'Yolo_w', 4: 'Yolo_h', 5:'Yolo_conf'}, inplace = True)\n",
    "print(df[7:15])"
   ]
  },
  {
   "cell_type": "code",
   "execution_count": 150,
   "id": "given-newman",
   "metadata": {},
   "outputs": [
    {
     "name": "stdout",
     "output_type": "stream",
     "text": [
      "    0  Kalman_x  Kalman_y  Kalman_w  Kalman_h  Kalman_conf\n",
      "7   0  0.496875  0.461111  0.325000  0.485185     0.903616\n",
      "8   0  0.495312  0.466667  0.326042  0.483333     0.906952\n",
      "9   0  0.495312  0.466667  0.323958  0.483333     0.907508\n",
      "10  0  0.493750  0.469444  0.322917  0.485185     0.906357\n",
      "11  0  0.493750  0.472222  0.322917  0.488889     0.907389\n",
      "12  0  0.512500  0.322222  0.334375  0.531481     0.869529\n",
      "13  0  0.493750  0.477778  0.322917  0.487037     0.907146\n",
      "14  0  0.492188  0.477778  0.323958  0.488889     0.905901\n"
     ]
    }
   ],
   "source": [
    "df2.rename(columns = {1 : 'Kalman_x', 2:'Kalman_y',3:'Kalman_w', 4: 'Kalman_h', 5:'Kalman_conf'}, inplace = True)\n",
    "print(df2[7:15])"
   ]
  },
  {
   "cell_type": "code",
   "execution_count": 151,
   "id": "equipped-marriage",
   "metadata": {},
   "outputs": [
    {
     "name": "stdout",
     "output_type": "stream",
     "text": [
      "C:\\Users\\qorwl\\yolov5_py38\\yolov5-master\n"
     ]
    }
   ],
   "source": [
    "%cd C:\\Users\\qorwl\\yolov5_py38\\yolov5-master"
   ]
  },
  {
   "cell_type": "code",
   "execution_count": 152,
   "id": "compact-melissa",
   "metadata": {},
   "outputs": [
    {
     "data": {
      "image/png": "[encoded data removed]",
      "text/plain": [
       "<Figure size 432x288 with 1 Axes>"
      ]
     },
     "metadata": {
      "needs_background": "light"
     },
     "output_type": "display_data"
    }
   ],
   "source": [
    "plt.plot(df['Yolo_y'], label ='Yolo_y')\n",
    "plt.plot(df2['Kalman_y'], label ='Kalman_y')\n",
    "plt.xlabel('Frame', labelpad=15)\n",
    "plt.ylabel('y_Pos', labelpad=20)\n",
    "plt.title('Delta_t = 1 ,  Std_Meas = 0.01')\n",
    "plt.ylim(0,0.8)\n",
    "plt.legend(loc='upper right')\n",
    "plt.savefig('./img/est/T_1_SM_001_Y')\n",
    "plt.show()"
   ]
  },
  {
   "cell_type": "code",
   "execution_count": 153,
   "id": "portuguese-flood",
   "metadata": {},
   "outputs": [
    {
     "data": {
      "image/png": "[encoded data removed]",
      "text/plain": [
       "<Figure size 432x288 with 1 Axes>"
      ]
     },
     "metadata": {
      "needs_background": "light"
     },
     "output_type": "display_data"
    }
   ],
   "source": [
    "plt.plot(df['Yolo_x'], label ='Yolo_x')\n",
    "plt.plot(df2['Kalman_x'], label ='Kalman_x')\n",
    "plt.xlabel('Frame', labelpad=15)\n",
    "plt.ylabel('x_Pos', labelpad=20)\n",
    "plt.title('Delta_t = 1 ,  Std_Meas = 0.01')\n",
    "plt.ylim(0,0.8)\n",
    "plt.legend(loc='upper right')\n",
    "plt.savefig('./img/est/T_1_SM_001_X')\n",
    "plt.show()"
   ]
  },
  {
   "cell_type": "code",
   "execution_count": null,
   "id": "opponent-desire",
   "metadata": {},
   "outputs": [],
   "source": []
  },
  {
   "cell_type": "code",
   "execution_count": null,
   "id": "detected-rider",
   "metadata": {},
   "outputs": [],
   "source": []
  },
  {
   "cell_type": "code",
   "execution_count": null,
   "id": "protective-gauge",
   "metadata": {},
   "outputs": [],
   "source": []
  }
 ],
 "metadata": {
  "kernelspec": {
   "display_name": "Python 3 (ipykernel)",
   "language": "python",
   "name": "python3"
  },
  "language_info": {
   "codemirror_mode": {
    "name": "ipython",
    "version": 3
   },
   "file_extension": ".py",
   "mimetype": "text/x-python",
   "name": "python",
   "nbconvert_exporter": "python",
   "pygments_lexer": "ipython3",
   "version": "3.9.7"
  }
 },
 "nbformat": 4,
 "nbformat_minor": 5
}
