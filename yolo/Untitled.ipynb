{
 "cells": [
  {
   "cell_type": "code",
   "execution_count": null,
   "id": "eca73d9c-52f2-4dea-b60f-dc36c2b5d6cf",
   "metadata": {},
   "outputs": [],
   "source": []
  },
  {
   "cell_type": "code",
   "execution_count": null,
   "id": "34ccbcab-1851-43f3-b16f-4f7220aff4ad",
   "metadata": {},
   "outputs": [],
   "source": []
  },
  {
   "cell_type": "code",
   "execution_count": null,
   "id": "dbe8dd21-df25-4e82-b10d-d2e8e12a8889",
   "metadata": {},
   "outputs": [],
   "source": []
  },
  {
   "cell_type": "code",
   "execution_count": null,
   "id": "d2fb02e9-8d76-40ed-9385-65c6bd85ac4b",
   "metadata": {},
   "outputs": [],
   "source": [
    "            if True:\n",
    "                (X, Y) = KF.predict()\n",
    "\n",
    "                if not len(det):\n",
    "                    # 칼만필터로 예측된 값을 텐서 변환\n",
    "                    X = (torch.tensor(X, device=\"cuda\")).view(-1)\n",
    "                    Y = (torch.tensor(Y, device=\"cuda\")).view(-1)\n",
    "\n",
    "                    # 예측 좌표와 이전 프레임의 값을 가져와 (1,6)의 텐서로 결합\n",
    "                    xywh = torch.cat([X, Y, Last_whcc[0:2]], dim=0).tolist()\n",
    "\n",
    "                    xyxy = (xywh2xyxy(torch.tensor(xywh, device=\"cuda\").view(1, 4))).view(-1)\n",
    "                    det = torch.cat([xyxy, Last_whcc[2:4]], dim=0).unsqueeze(0)\n",
    "\n",
    "\n",
    "\n",
    "\n",
    "                for *xyxy, conf, clas in reversed(det):\n",
    "\n",
    "                    xywh = (xyxy2xywh(torch.tensor(xyxy).view(1, 4))).view(-1).tolist()\n",
    "                    conf = conf.view(-1)\n",
    "                    clas = clas.view(-1)\n",
    "\n",
    "\n",
    "                    # 지난 프레임의 예측 값을 측정값으로 사용하여\n",
    "                    # 칼만필터의 추정값을 계산\n",
    "                    est_x_y = KF.update(Last_x_y)\n",
    "\n",
    "\n",
    "                    # 칼만필터에 input 형태로 변형\n",
    "                    Last_x_y = [[xywh[0]], [xywh[1]]]\n",
    "\n",
    "                    # 칼만필터의 추정값을 텐서에 적용\n",
    "                    xywh[0] = est_x_y[0, 0]\n",
    "                    xywh[1] = est_x_y[1, 0]\n",
    "\n",
    "                    # 높이와 너비값 저장\n",
    "\n",
    "                    wh = (torch.tensor(xywh[2:4], device=\"cuda\"))\n",
    "\n",
    "                    Last_whcc = torch.cat([wh, conf, clas], dim=0)\n",
    "\n",
    "                    # Yolo의 출력 형태로 텐서 길이로 변경\n",
    "\n",
    "                    xyxy = (xywh2xyxy(torch.tensor(xywh, device=\"cuda\").view(1, 4))).view(-1)\n",
    "\n",
    "                    # 원래 형태로 만들어주기\n",
    "                    Esti_X = torch.cat([xyxy, conf, clas], dim=0)\n",
    "\n",
    "                    # 텐서를 차원을 맞추어 리스트에 저장\n",
    "                    Esti_X = Esti_X.unsqueeze(0)\n",
    "                    li.append(Esti_X)\n",
    "\n",
    "            if li is not None:\n",
    "                det = sum_tensor(li)"
   ]
  }
 ],
 "metadata": {
  "kernelspec": {
   "display_name": "Python 3 (ipykernel)",
   "language": "python",
   "name": "python3"
  },
  "language_info": {
   "codemirror_mode": {
    "name": "ipython",
    "version": 3
   },
   "file_extension": ".py",
   "mimetype": "text/x-python",
   "name": "python",
   "nbconvert_exporter": "python",
   "pygments_lexer": "ipython3",
   "version": "3.9.7"
  }
 },
 "nbformat": 4,
 "nbformat_minor": 5
}
