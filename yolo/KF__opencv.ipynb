{
 "cells": [
  {
   "cell_type": "code",
   "execution_count": 5,
   "id": "empirical-calculator",
   "metadata": {},
   "outputs": [],
   "source": [
    "from models.common import DetectMultiBackend\n",
    "from utils.datasets import IMG_FORMATS, VID_FORMATS, LoadImages, LoadStreams\n",
    "from utils.general import (LOGGER, check_file, check_img_size, check_imshow, check_requirements, colorstr,\n",
    "                           increment_path, non_max_suppression, print_args, scale_coords, strip_optimizer, xyxy2xywh,\n",
    "                           xywh2xyxy)\n",
    "from utils.plots import Annotator, colors, save_one_box\n",
    "from utils.torch_utils import select_device, time_sync\n",
    "\n",
    "from KalmanFilter import KalmanFilter\n",
    "#from SumTensorList import sum_tensor"
   ]
  },
  {
   "cell_type": "code",
   "execution_count": 6,
   "id": "dominant-soldier",
   "metadata": {},
   "outputs": [],
   "source": [
    "KF = KalmanFilter((1 /10), 1, 1, 1, 0.1,0.1)"
   ]
  },
  {
   "cell_type": "code",
   "execution_count": 7,
   "id": "local-mixer",
   "metadata": {},
   "outputs": [
    {
     "name": "stdout",
     "output_type": "stream",
     "text": [
      "tensor([0.00500], device='cuda:0', dtype=torch.float64)\n",
      "tensor([0., 0., 0., 0.], device='cuda:0')\n",
      "torch.Size([1])\n",
      "torch.Size([4])\n"
     ]
    }
   ],
   "source": [
    "(X,Y) = KF.predict()\n",
    "Last_whcc = torch.zeros((1, 4), device='cuda').view(-1)\n",
    "X = (torch.tensor(X, device=\"cuda\")).view(-1)\n",
    "Y = (torch.tensor(Y, device=\"cuda\")).view(-1)\n",
    "print(X)\n",
    "print(Last_whcc)\n",
    "print(X.shape)\n",
    "print(Last_whcc.shape)"
   ]
  },
  {
   "cell_type": "code",
   "execution_count": 20,
   "id": "distributed-addiction",
   "metadata": {},
   "outputs": [
    {
     "name": "stdout",
     "output_type": "stream",
     "text": [
      "[tensor([[2.49784e+02, 3.63123e+01, 4.66263e+02, 3.21688e+02, 2.71220e-01, 0.00000e+00],\n",
      "        [2.49784e+02, 3.63123e+01, 4.66263e+02, 3.21688e+02, 2.71220e-01, 0.00000e+00]], device='cuda:0')]\n"
     ]
    }
   ],
   "source": [
    "pred = [torch.tensor([[2.49784e+02, 3.63123e+01, 4.66263e+02, 3.21688e+02, 2.71220e-01, 0.00000e+00]], device='cuda')]\n",
    "\n",
    "pred2 = [torch.tensor([[2.49784e+02, 3.63123e+01, 4.66263e+02, 3.21688e+02, 2.71220e-01, 0.00000e+00],[2.49784e+02, 3.63123e+01, 4.66263e+02, 3.21688e+02, 2.71220e-01, 0.00000e+00]],\n",
    "                      device='cuda')]\n",
    "pred3 = [torch.zeros((0, 6), device='cuda')] \n",
    "Zero_pred = torch.zeros((0, 6), device='cuda')\n",
    "zero_whcc = torch.zeros((1, 4), device='cuda').view(-1)\n",
    "Last_whcc = 0.5 * torch.ones((1, 4), device='cuda').view(-1)\n",
    "Last_xy=[[200], [150]]\n",
    "print(pred2)\n",
    "\n",
    "im0s= 1\n",
    "#[tensor([[4.20552e+02, 1.29332e+02, 5.52588e+02, 2.39458e+02, 3.78457e-01, 0.00000e+00]], device='cuda:0')]\n",
    "#[tensor([3.58023e+02, 1.79000e+02, 2.16479e+02, 2.85376e+02, 2.71220e-01, 0.00000e+00], device='cuda:0'), tensor([3.58023e+02, 1.79000e+02, 2.16479e+02, 2.85376e+02, 2.71220e-01, 0.00000e+00], device='cuda:0')]\n"
   ]
  },
  {
   "cell_type": "code",
   "execution_count": 12,
   "id": "wooden-starter",
   "metadata": {},
   "outputs": [
    {
     "name": "stdout",
     "output_type": "stream",
     "text": [
      "[tensor([[3.58023e+02, 1.79000e+02, 2.16479e+02, 2.85376e+02, 2.71220e-01, 0.00000e+00]], device='cuda:0'), tensor([[3.58023e+02, 1.79000e+02, 2.16479e+02, 2.85376e+02, 2.71220e-01, 0.00000e+00]], device='cuda:0')]\n"
     ]
    }
   ],
   "source": [
    "#Yolov5로 예측을 성공한 경우\n",
    "\n",
    "li=[]\n",
    "\n",
    "\n",
    "for i, d in enumerate(pred2):\n",
    "    #yolo모델이 검출에 실패한 경우 \n",
    "    #칼만필터로 예측 진행\n",
    "    \n",
    "    if torch.equal(d, Zero_pred) and not(torch.equal(zero_whcc, Last_whcc)) :\n",
    " \n",
    "        #칼만필터로 예측된 값을 텐서 변환\n",
    "        X = (torch.tensor(X, device=\"cuda\")).view(-1)\n",
    "        Y = (torch.tensor(Y, device=\"cuda\")).view(-1)\n",
    "\n",
    "        #예측 좌표와 이전 프레임의 값을 가져와 (1,6)의 텐서로 결합\n",
    "        d = torch.cat([X, Y, Last_whcc], dim=0)\n",
    "                \n",
    "        #텐서의 차원 맞추기\n",
    "        d = d.view(1,-1)\n",
    "        \n",
    "    #칼만 혹은 yolo에서 예측된 텐서를 보정\n",
    "    for *xyxy, conf, clas in reversed(d):\n",
    "        # xywh 형태로 변형\n",
    "        xywh = (xyxy2xywh(torch.tensor(xyxy).view(1, 4))).view(-1).tolist() #List 형태로 반환\n",
    "\n",
    "        \n",
    "        #텐서의 shape 맞추기\n",
    "        conf = conf.view(-1)\n",
    "        clas = clas.view(-1)\n",
    "\n",
    "        # 지난 프레임의 예측 값을 측정값으로 사용하여 \n",
    "        # 칼만필터의 추정값을 계산\n",
    "        est_x_y = KF.update(Last_xy)        \n",
    "        \n",
    "        # 칼만필터에 input 형태로 변형\n",
    "        Last_xy = [[xywh[0]], [xywh[1]]]\n",
    "        \n",
    "        # 칼만필터의 추정값을 텐서에 적용\n",
    "        xywh[0] = est_x_y[0, 0]\n",
    "        xywh[1] = est_x_y[1, 0]\n",
    "\n",
    "        #높이와 너비값 저장\n",
    "        wh = (torch.tensor(xywh[2:4], device=\"cuda\"))\n",
    "        Last_whcc = torch.cat([wh, conf, clas], dim=0)\n",
    "\n",
    "        # Yolo의 출력 형태로 텐서 길이로 변경\n",
    "        xywh = [xywh]\n",
    "        xyxy = (xyxy2xywh(torch.tensor(xyxy, device=\"cuda\").view(1, 4))).view(-1)\n",
    "            \n",
    "        # 원래 형태로 만들어주기\n",
    "        Esti_X = torch.cat([xyxy, conf, clas], dim=0)\n",
    "        \n",
    "        # 텐서를 차원을 맞추어 리스트에 저장\n",
    "        \n",
    "        Esti_X = Esti_X.unsqueeze(0)\n",
    "        li.append(Esti_X)\n",
    "        \n",
    "        \n",
    "#if li is not None:\n",
    "    \n",
    "    #pred4 =[sum_tensor(li)]\n",
    "\n",
    "print(li)\n",
    "\n"
   ]
  },
  {
   "cell_type": "code",
   "execution_count": 17,
   "id": "alert-latitude",
   "metadata": {},
   "outputs": [],
   "source": [
    "Zero_pred = torch.zeros((0, 6), device='cuda')\n",
    "zero_whcc = torch.zeros((1, 4), device='cuda').view(-1)\n",
    "Last_whcc = 0.5 * torch.ones((1, 4), device='cuda').view(-1)\n",
    "Last_x_y = [[0], [0]]\n"
   ]
  },
  {
   "cell_type": "code",
   "execution_count": 16,
   "id": "renewable-pizza",
   "metadata": {},
   "outputs": [
    {
     "name": "stdout",
     "output_type": "stream",
     "text": [
      "tensor([[2.49784e+02, 3.63123e+01, 4.66263e+02, 3.21688e+02, 2.71220e-01, 0.00000e+00],\n",
      "        [2.49784e+02, 3.63123e+01, 4.66263e+02, 3.21688e+02, 2.71220e-01, 0.00000e+00]], device='cuda:0')\n"
     ]
    },
    {
     "ename": "NameError",
     "evalue": "name 'sum_tensor' is not defined",
     "output_type": "error",
     "traceback": [
      "\u001b[1;31m---------------------------------------------------------------------------\u001b[0m",
      "\u001b[1;31mNameError\u001b[0m                                 Traceback (most recent call last)",
      "\u001b[1;32m~\\AppData\\Local\\Temp/ipykernel_15668/2954729694.py\u001b[0m in \u001b[0;36m<module>\u001b[1;34m\u001b[0m\n\u001b[0;32m     50\u001b[0m \u001b[1;32mif\u001b[0m \u001b[0mli\u001b[0m \u001b[1;32mis\u001b[0m \u001b[1;32mnot\u001b[0m \u001b[1;32mNone\u001b[0m\u001b[1;33m:\u001b[0m\u001b[1;33m\u001b[0m\u001b[1;33m\u001b[0m\u001b[0m\n\u001b[0;32m     51\u001b[0m \u001b[1;33m\u001b[0m\u001b[0m\n\u001b[1;32m---> 52\u001b[1;33m     \u001b[0mpred4\u001b[0m \u001b[1;33m=\u001b[0m\u001b[1;33m[\u001b[0m\u001b[0msum_tensor\u001b[0m\u001b[1;33m(\u001b[0m\u001b[0mli\u001b[0m\u001b[1;33m)\u001b[0m\u001b[1;33m]\u001b[0m\u001b[1;33m\u001b[0m\u001b[1;33m\u001b[0m\u001b[0m\n\u001b[0m\u001b[0;32m     53\u001b[0m \u001b[1;33m\u001b[0m\u001b[0m\n\u001b[0;32m     54\u001b[0m     \u001b[0mprint\u001b[0m\u001b[1;33m(\u001b[0m\u001b[0mpred4\u001b[0m\u001b[1;33m)\u001b[0m\u001b[1;33m\u001b[0m\u001b[1;33m\u001b[0m\u001b[0m\n",
      "\u001b[1;31mNameError\u001b[0m: name 'sum_tensor' is not defined"
     ]
    }
   ],
   "source": [
    "#Yolov5로 예측을 성공한 경우\n",
    "\n",
    "li=[]\n",
    "\n",
    "\n",
    "for i, d in enumerate(pred2):\n",
    "    #yolo모델이 검출에 실패한 경우 \n",
    "    #칼만필터로 예측 진행\n",
    "    \n",
    "    print(d)\n",
    "    #칼만 혹은 yolo에서 예측된 텐서를 보정\n",
    "    for *xyxy, conf, clas in reversed(d):\n",
    "        \n",
    "        \n",
    "        # xywh 형태로 변형\n",
    "        \n",
    "        xywh = (xyxy2xywh(torch.tensor(xyxy).view(1, 4))).view(-1).tolist() #List 형태로 반환\n",
    "\n",
    "        \n",
    "        #텐서의 shape 맞추기\n",
    "        conf = conf.view(-1)\n",
    "        clas = clas.view(-1)\n",
    "\n",
    "        # 지난 프레임의 예측 값을 측정값으로 사용하여 \n",
    "        # 칼만필터의 추정값을 계산\n",
    "        est_x_y = KF.update(Last_xy)        \n",
    "        \n",
    "        # 칼만필터에 input 형태로 변형\n",
    "        Last_xy = [[xywh[0]], [xywh[1]]]\n",
    "        \n",
    "        # 칼만필터의 추정값을 텐서에 적용\n",
    "        xywh[0] = est_x_y[0, 0]\n",
    "        xywh[1] = est_x_y[1, 0]\n",
    "\n",
    "        #높이와 너비값 저장\n",
    "        wh = (torch.tensor(xywh[2:4], device=\"cuda\"))\n",
    "        Last_whcc = torch.cat([wh, conf, clas], dim=0)\n",
    "\n",
    "        # Yolo의 출력 형태로 텐서 길이로 변경\n",
    "        xywh = [xywh]\n",
    "        xyxy = (xyxy2xywh(torch.tensor(xyxy, device=\"cuda\").view(1, 4))).view(-1)\n",
    "            \n",
    "        # 원래 형태로 만들어주기\n",
    "        Esti_X = torch.cat([xyxy, conf, clas], dim=0)\n",
    "        \n",
    "        # 텐서를 차원을 맞추어 리스트에 저장\n",
    "        \n",
    "        Esti_X = Esti_X.unsqueeze(0)\n",
    "        li.append(Esti_X)\n",
    "if li is not None:\n",
    "    \n",
    "    pred4 =[sum_tensor(li)]\n",
    "    \n",
    "    print(pred4)\n",
    "\n"
   ]
  },
  {
   "cell_type": "code",
   "execution_count": 39,
   "id": "interior-convertible",
   "metadata": {},
   "outputs": [
    {
     "name": "stdout",
     "output_type": "stream",
     "text": [
      "[tensor(249.78400, device='cuda:0'), tensor(36.31230, device='cuda:0'), tensor(466.26300, device='cuda:0'), tensor(321.68799, device='cuda:0')]\n",
      "[358.02349853515625, 179.00015258789062, 216.47900390625, 285.37567138671875]\n",
      "[[        312]\n",
      " [        155]]\n",
      "[tensor(249.78400, device='cuda:0'), tensor(36.31230, device='cuda:0'), tensor(466.26300, device='cuda:0'), tensor(321.68799, device='cuda:0')]\n",
      "[358.02349853515625, 179.00015258789062, 216.47900390625, 285.37567138671875]\n",
      "[[        318]\n",
      " [        158]]\n",
      "tensor([[2.03760e+02, 1.23122e+01, 4.20240e+02, 2.97688e+02, 2.71220e-01, 0.00000e+00],\n",
      "        [2.09760e+02, 1.53122e+01, 4.26240e+02, 3.00688e+02, 2.71220e-01, 0.00000e+00]], device='cuda:0', dtype=torch.float64)\n"
     ]
    }
   ],
   "source": [
    "li = []\n",
    "\n",
    "# Process predictions\n",
    "for i, det in enumerate(pred2):  # per image\n",
    "    \n",
    "    \n",
    "    if not len(det):\n",
    "        # 칼만필터로 예측된 값을 텐서 변환\n",
    "        (X,Y) = KF.predict()\n",
    "        X = (torch.tensor(X, device=\"cuda\")).view(-1)\n",
    "        Y = (torch.tensor(Y, device=\"cuda\")).view(-1)\n",
    "          \n",
    "        # 예측 좌표와 이전 프레임의 값을 가져와 (1,6)의 텐서로 결합\n",
    "        xywh = torch.cat([X, Y, Last_whcc[0:2]], dim=0).tolist()\n",
    "        xyxy = (xywh2xyxy(torch.tensor(xywh, device=\"cuda\").view(1, 4))).view(-1)\n",
    "        det = torch.cat([xyxy, Last_whcc[2:4]], dim=0).unsqueeze(0)\n",
    "        \n",
    "        print(det)\n",
    "        print(det.shape)\n",
    "    \n",
    "    \n",
    "    \n",
    "    for *xyxy, conf, clas in reversed(det):\n",
    "        print(xyxy)\n",
    "        xywh = (xyxy2xywh(torch.tensor(xyxy).view(1, 4))).view(-1).tolist()\n",
    "        print(xywh)\n",
    "        conf = conf.view(-1)\n",
    "        clas = clas.view(-1)  \n",
    "        # 지난 프레임의 예측 값을 측정값으로 사용하여\n",
    "        # 칼만필터의 추정값을 계산\n",
    "\n",
    "        est_x_y = KF.update(Last_x_y)\n",
    "        print(est_x_y)\n",
    "    \n",
    "        # 칼만필터에 input 형태로 변형\n",
    "        Last_x_y = [[xywh[0]], [xywh[1]]]\n",
    "    \n",
    "        # 칼만필터의 추정값을 텐서에 적용\n",
    "        xywh[0] = est_x_y[0, 0]\n",
    "        xywh[1] = est_x_y[1, 0]\n",
    "\n",
    "        # 높이와 너비값 저장\n",
    "    \n",
    "        wh = (torch.tensor(xywh[2:4], device=\"cuda\"))\n",
    "        Last_whcc = torch.cat([wh, conf, clas], dim=0)\n",
    "\n",
    "        # Yolo의 출력 형태로 텐서 길이로 변경\n",
    "        xywh = [xywh]\n",
    "        xyxy = (xywh2xyxy(torch.tensor(xywh, device=\"cuda\").view(1, 4))).view(-1)\n",
    "             \n",
    "        # 원래 형태로 만들어주기\n",
    "        Esti_X = torch.cat([xyxy, conf, clas], dim=0)\n",
    "\n",
    "        # 텐서를 차원을 맞추어 리스트에 저장\n",
    "\n",
    "        Esti_X = Esti_X.unsqueeze(0)\n",
    "    \n",
    "        li.append(Esti_X)\n",
    "if li is not None:\n",
    "    det = sum_tensor(li)\n",
    "print(det)"
   ]
  },
  {
   "cell_type": "code",
   "execution_count": 22,
   "id": "2a8e95a7-b828-47dc-a728-8d730dc7176b",
   "metadata": {},
   "outputs": [
    {
     "name": "stdout",
     "output_type": "stream",
     "text": [
      "[tensor([[ 1.43760e+02, -1.86878e+01,  3.60240e+02,  2.66688e+02,  2.71220e-01,  0.00000e+00]], device='cuda:0', dtype=torch.float64), tensor([[ 1.69760e+02, -5.68784e+00,  3.86240e+02,  2.79688e+02,  2.71220e-01,  0.00000e+00]], device='cuda:0', dtype=torch.float64)]\n"
     ]
    }
   ],
   "source": [
    "print(li)"
   ]
  },
  {
   "cell_type": "code",
   "execution_count": 23,
   "id": "329f9f81-97aa-4761-96f3-cea2317e35f8",
   "metadata": {},
   "outputs": [
    {
     "name": "stdout",
     "output_type": "stream",
     "text": [
      "tensor([[ 1.43760e+02, -1.86878e+01,  3.60240e+02,  2.66688e+02,  2.71220e-01,  0.00000e+00]], device='cuda:0', dtype=torch.float64)\n",
      "tensor([[ 1.69760e+02, -5.68784e+00,  3.86240e+02,  2.79688e+02,  2.71220e-01,  0.00000e+00]], device='cuda:0', dtype=torch.float64)\n"
     ]
    }
   ],
   "source": [
    "for i in li:\n",
    "    print(i)"
   ]
  },
  {
   "cell_type": "code",
   "execution_count": 34,
   "id": "c065038b-f256-4f64-930c-f3011f63ecca",
   "metadata": {},
   "outputs": [],
   "source": [
    "def sum_tensor(li):\n",
    "    a = torch.zeros((0, 6), device='cuda')\n",
    "    for i in li:\n",
    "        a = torch.cat([a , i] , dim=0)\n",
    "        \n",
    "    return a"
   ]
  },
  {
   "cell_type": "code",
   "execution_count": 35,
   "id": "cb9340ad-fb3c-46fa-8675-fc84ac762953",
   "metadata": {},
   "outputs": [
    {
     "name": "stdout",
     "output_type": "stream",
     "text": [
      "[tensor([[ 1.43760e+02, -1.86878e+01,  3.60240e+02,  2.66688e+02,  2.71220e-01,  0.00000e+00]], device='cuda:0', dtype=torch.float64), tensor([[ 1.69760e+02, -5.68784e+00,  3.86240e+02,  2.79688e+02,  2.71220e-01,  0.00000e+00]], device='cuda:0', dtype=torch.float64)]\n"
     ]
    }
   ],
   "source": [
    "print(li)"
   ]
  },
  {
   "cell_type": "code",
   "execution_count": 36,
   "id": "ef518ea2-8eb9-4486-8521-1291c15a447b",
   "metadata": {},
   "outputs": [],
   "source": [
    "det = sum_tensor(li)"
   ]
  },
  {
   "cell_type": "code",
   "execution_count": 37,
   "id": "092ff166-23e2-4435-87be-1d21353a1077",
   "metadata": {},
   "outputs": [
    {
     "name": "stdout",
     "output_type": "stream",
     "text": [
      "tensor([[ 1.43760e+02, -1.86878e+01,  3.60240e+02,  2.66688e+02,  2.71220e-01,  0.00000e+00],\n",
      "        [ 1.69760e+02, -5.68784e+00,  3.86240e+02,  2.79688e+02,  2.71220e-01,  0.00000e+00]], device='cuda:0', dtype=torch.float64)\n"
     ]
    }
   ],
   "source": [
    "print(det)"
   ]
  },
  {
   "cell_type": "code",
   "execution_count": null,
   "id": "7729ec03-7218-47fe-91f5-c427be0da5ca",
   "metadata": {},
   "outputs": [],
   "source": []
  }
 ],
 "metadata": {
  "kernelspec": {
   "display_name": "Python 3 (ipykernel)",
   "language": "python",
   "name": "python3"
  },
  "language_info": {
   "codemirror_mode": {
    "name": "ipython",
    "version": 3
   },
   "file_extension": ".py",
   "mimetype": "text/x-python",
   "name": "python",
   "nbconvert_exporter": "python",
   "pygments_lexer": "ipython3",
   "version": "3.9.7"
  }
 },
 "nbformat": 4,
 "nbformat_minor": 5
}
