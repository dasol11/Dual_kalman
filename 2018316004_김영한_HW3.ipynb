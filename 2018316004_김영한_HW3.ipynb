{
 "cells": [
  {
   "cell_type": "markdown",
   "id": "2429ef95",
   "metadata": {},
   "source": [
    "### 파일명을 본인의 학번_이름_HW3.ipynb로 바꾸어 제출하십시오.\n",
    "### (ex. 2020123456_권오성_HW3.ipynb)\n",
    "### 제출기한: 11/23(수) 23:59\n",
    "### -----------------------------------------------------"
   ]
  },
  {
   "cell_type": "markdown",
   "id": "c99a3062",
   "metadata": {},
   "source": [
    "### 각 문제 아래칸에 답을 작성해주세요.\n",
    "### \"Run\"을 했을 때 산출되는 답을 기준으로 평가하되, 코드 역시 평가 대상에 포함됩니다.\n",
    "### -----------------------------------------------------"
   ]
  },
  {
   "cell_type": "markdown",
   "id": "62959141",
   "metadata": {},
   "source": [
    "### 평가 기준 (문제당)\n",
    "### 완벽한 풀이: 100%\n",
    "### 사소한 오류(답은 맞았으나 풀이가 틀렸거나, 풀이가 조금 틀려서 답이 틀린 경우): 70%\n",
    "### 중대한 오류(접근 방식이 잘못된 경우): 30%\n",
    "### 사소한 오류*3회: 30%\n",
    "### 잘못된 풀이: 0%\n",
    "### 지각 제출: 한 단계씩 downgrade (단, 정답 발표 전까지만 제출 가능)\n",
    "### -----------------------------------------------------"
   ]
  },
  {
   "cell_type": "markdown",
   "id": "e1821d35",
   "metadata": {},
   "source": [
    "## No.1\n",
    "### 임의의 숫자를 입력받아,\n",
    "### 첫 번째 입력한 숫자에서 그 뒤에 입력한 숫자를 전부 빼는 sub 함수를 구현하고자 합니다.\n",
    "### 아래 코드의 빈 부분을 채워 코드를 완성하세요.\n",
    "#### 예1)\n",
    "#### 입력: sub(5, 4, 9)\n",
    "#### 출력: -8\n",
    "#### 예2)\n",
    "#### 입력: sub(5, 4, 3, 2, 1)\n",
    "#### 출력: -5"
   ]
  },
  {
   "cell_type": "code",
   "execution_count": 4,
   "id": "5c4338fd",
   "metadata": {},
   "outputs": [
    {
     "name": "stdout",
     "output_type": "stream",
     "text": [
      "-5\n"
     ]
    }
   ],
   "source": [
    "def sub(*args):\n",
    "    result = []\n",
    "    for i in args : \n",
    "        result.append(i)\n",
    "    result = result[0]*2 - sum(result)\n",
    "    print(result)\n",
    "sub(5,4,3,2,1)"
   ]
  },
  {
   "cell_type": "markdown",
   "id": "8cd64a3f",
   "metadata": {},
   "source": [
    "## No.2\n",
    "### 아래 코드의 빈 부분을 채워 직각삼각형의 대각선 길이를 구하는 클래스를 구현하세요.\n",
    "### a는 직각삼각형의 밑변, b는 높이를 나타냅니다.\n",
    "#### 예)\n",
    "#### 입력: diag(3,4)\n",
    "#### 출력: 5"
   ]
  },
  {
   "cell_type": "code",
   "execution_count": 2,
   "id": "91eaa341",
   "metadata": {
    "scrolled": false
   },
   "outputs": [
    {
     "name": "stdout",
     "output_type": "stream",
     "text": [
      "5.0\n"
     ]
    }
   ],
   "source": [
    "class Triangle:\n",
    "    def __init__(self, a, b):\n",
    "        self.a = a\n",
    "        self.b = b\n",
    "    def diag(self):\n",
    "        c = (self.a)**2+(self.b)**2\n",
    "        c = c**(1/2)\n",
    "        print (c)\n",
    "t = Triangle(3, 4)\n",
    "t.diag()"
   ]
  },
  {
   "cell_type": "markdown",
   "id": "b1c890ba",
   "metadata": {},
   "source": [
    "## No.3 (2점)\n",
    "### 어떤 한 게임 캐릭터는, 현재 체력이 100, 최대 체력이 200입니다.\n",
    "### 여러분은 이제 Character 클래스에서 캐릭터가 공격받을 때 체력이 깎이는 attacked 메서드,\n",
    "### 포션을 섭취할 때 체력이 회복되는 potion 메서드를 구현하고자 합니다.\n",
    "#### \n",
    "### attacked 메서드에서는 입력받은 만큼 데미지를 받는 메서드를 구현하되,\n",
    "### 체력이 0이 되었을 경우 'YOU DIED'를 출력해야하며, 체력을 0으로 초기화해야 합니다.\n",
    "#### \n",
    "### potion 메서드에서는 입력받은 만큼 체력을 회복하는 메서드를 구현하되,\n",
    "### 체력이 최대치에 도달했을 경우 최대치까지만 회복하도록 하세요.\n",
    "#### \n",
    "### 또한, 인스턴스가 메서드를 수행할때마다 현재 남은 체력을 보여주게 하세요.\n",
    "### 예를 들어, 30의 데미지를 입었을 경우 70, 여기에서 50을 회복하면 120을 출력하게 됩니다.\n",
    "#### \n",
    "### 아래 코드의 빈 부분을 채워 위에서 설명하는 클래스를 구현하세요."
   ]
  },
  {
   "cell_type": "code",
   "execution_count": 82,
   "id": "571674d2",
   "metadata": {},
   "outputs": [
    {
     "name": "stdout",
     "output_type": "stream",
     "text": [
      "YOU DIED\n",
      "0\n",
      "200\n"
     ]
    }
   ],
   "source": [
    "class Character:\n",
    "    def __init__(self):\n",
    "        self.max_life = 200\n",
    "        self.life = 100\n",
    "        \n",
    "    def attacked(self, damage):\n",
    "        self.life-=damage\n",
    "        if self.life<=0:\n",
    "            print('YOU DIED')\n",
    "            self.life=0\n",
    "        return self.life\n",
    "    def potion(self, recovery):\n",
    "        self.life+=recovery\n",
    "        if self.life>=self.max_life:\n",
    "            self.life = self.max_life     \n",
    "        return self.life\n",
    "a = Character()\n",
    "print(a.attacked(150))\n",
    "print(a.potion(250))"
   ]
  },
  {
   "cell_type": "markdown",
   "id": "8bbbf235",
   "metadata": {},
   "source": [
    "## No.4\n",
    "### 어떠한 숫자를 input으로 입력받았을 때,\n",
    "### 해당 숫자가 0이라면 '0은 안됩니다'라는 에러 메시지를,\n",
    "### 소수라면 '소수는 안됩니다'라는 에러 메시지를 출력하는 코드를 작성하세요.\n",
    "### 0일 때는 ZeroDivisionError, 소수일 때는 ValueError를 활용하시면 됩니다."
   ]
  },
  {
   "cell_type": "code",
   "execution_count": 104,
   "id": "c5b3a0b8",
   "metadata": {},
   "outputs": [
    {
     "name": "stdout",
     "output_type": "stream",
     "text": [
      "0이 아닌 정수를 입력하시오.0\n",
      "0은 안됩니다.\n"
     ]
    }
   ],
   "source": [
    "class MyError(Exception):\n",
    "    pass\n",
    "\n",
    "def error(a):\n",
    "    if a == 0 : \n",
    "        raise ZeroDivisionError()\n",
    "    elif type(a)==float:\n",
    "        raise ValueError()\n",
    "    print(a)\n",
    "    \n",
    "try : \n",
    "    a = int(input('0이 아닌 정수를 입력하시오.'))\n",
    "    error(a)\n",
    "except ZeroDivisionError:\n",
    "    print('0은 안됩니다.')\n",
    "except ValueError:\n",
    "    print('소수는 안됩니다.')"
   ]
  },
  {
   "cell_type": "code",
   "execution_count": null,
   "id": "c758e90f",
   "metadata": {},
   "outputs": [],
   "source": []
  }
 ],
 "metadata": {
  "kernelspec": {
   "display_name": "Python 3 (ipykernel)",
   "language": "python",
   "name": "python3"
  },
  "language_info": {
   "codemirror_mode": {
    "name": "ipython",
    "version": 3
   },
   "file_extension": ".py",
   "mimetype": "text/x-python",
   "name": "python",
   "nbconvert_exporter": "python",
   "pygments_lexer": "ipython3",
   "version": "3.8.12"
  }
 },
 "nbformat": 4,
 "nbformat_minor": 5
}
