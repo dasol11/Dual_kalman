{
 "cells": [
  {
   "cell_type": "code",
   "execution_count": 1,
   "id": "57d66544-fd58-4410-b3f3-2198e94ef9df",
   "metadata": {},
   "outputs": [],
   "source": [
    "#[class , x, y, w, h , conf]\n",
    "#['0', '0.0880208', '0.140741', '0.176042', '0.281481', '0.705591']"
   ]
  },
  {
   "cell_type": "code",
   "execution_count": 21,
   "id": "e2d2aff8-22f5-45b9-8627-7d4e7b95b9aa",
   "metadata": {},
   "outputs": [],
   "source": [
    "import os"
   ]
  },
  {
   "cell_type": "code",
   "execution_count": 22,
   "id": "9846aadb-7a7b-4cef-810d-2cac122b264d",
   "metadata": {},
   "outputs": [],
   "source": [
    "#YOLO형태에서  VOC 형식으로 변환\n",
    "def convertToAbsoluteValues(box):\n",
    "    #box = [class , x, y, w, h , conf]\n",
    "    \n",
    "    xIn = ( float(box[1]) - float(box[3]/2)) # x-(w/2)\n",
    "    yIn = ( float(box[2]) - float(box[4]/2)) \n",
    "    xEnd = xIn + (float(box[3]) )\n",
    "    yEnd = yIn + (float(box[4]) )\n",
    "    \n",
    "    if xIn < 0:\n",
    "        xIn = 0\n",
    "    if yIn < 0:\n",
    "        yIn = 0\n",
    "    if xEnd >= 1:\n",
    "        xEnd = 1 - 1\n",
    "    if yEnd >= 1:\n",
    "        yEnd = 1 - 1\n",
    "       \n",
    "    return [xIn, yIn, xEnd, yEnd]"
   ]
  },
  {
   "cell_type": "code",
   "execution_count": 23,
   "id": "38c6b807-ec0f-4958-8964-34d574675846",
   "metadata": {},
   "outputs": [],
   "source": [
    "#label과 detection 결과를 불러와 리스트에 저장\n",
    "def boundingBoxes(labelPath, imagePath):\n",
    "    \n",
    "    detections, groundtruths, classes = [], [], []\n",
    "    \n",
    "    for boxtype in os.listdir(labelPath):\n",
    "\n",
    "        boxtypeDir = os.path.join(labelPath,boxtype)\n",
    "\n",
    "        for labelfile in os.listdir(boxtypeDir):\n",
    "            filename = os.path.splitext(labelfile)[0]\n",
    "            with open(os.path.join(boxtypeDir, labelfile)) as f:\n",
    "                labelinfos = f.readlines()\n",
    "\n",
    "            imgfilepath = os.path.join(imagePath, filename + \".jpg\")\n",
    "            img = cv.imread(imgfilepath)\n",
    "            h, w, _ = img.shape\n",
    "\n",
    "            for labelinfo in labelinfos:\n",
    "                label, conf, rx1, ry1, rx2, ry2 = map(float, labelinfo.strip().split())\n",
    "                x1, y1, x2, y2 = convertToAbsoluteValues((w, h), (rx1, ry1, rx2, ry2))\n",
    "                boxinfo = [filename, label, conf, (x1, y1, x2, y2)]\n",
    "                \n",
    "                if label not in classes:\n",
    "                    classes.append(label)\n",
    "                \n",
    "                if boxtype == \"detection\":\n",
    "                    detections.append(boxinfo)\n",
    "                else:\n",
    "                    groundtruths.append(boxinfo)\n",
    "                    \n",
    "    classes = sorted(classes)\n",
    "                \n",
    "    return detections, groundtruths, classes"
   ]
  },
  {
   "cell_type": "code",
   "execution_count": 24,
   "id": "e88af96e-97b3-445e-9e8e-207efee8dd11",
   "metadata": {},
   "outputs": [],
   "source": [
    "#box = [ x1, y1, x2, y2]\n",
    "def getArea(box):\n",
    "    \"\"\"\n",
    "    box의 절대값 좌표를 받아 box의 넓이를 반환\n",
    "    \n",
    "    \"\"\"\n",
    "    return (box[2] - box[0] + 1) * (box[3] - box[1] + 1)\n",
    "\n",
    "\n",
    "def getUnionAreas(boxA, boxB, interArea=None):\n",
    "    \"\"\"\n",
    "    2개의 box의 절대값 좌표를 인자로 받아 2개의 box의 넓이에서 겹치는 역역을 제외하여 합집합 영역을 반환\n",
    "    \"\"\"\n",
    "    area_A = getArea(boxA)\n",
    "    area_B = getArea(boxB)\n",
    "    \n",
    "    if interArea is None:\n",
    "        interArea = getIntersectionArea(boxA, boxB)\n",
    "        \n",
    "    return float(area_A + area_B - interArea)\n",
    "\n",
    "def getIntersectionArea(boxA, boxB):\n",
    "    \"\"\"\n",
    "    2개의 box의 절대값 좌표를 인자로 받아서 두 box가 겹치는 영역을 반환함\n",
    "    \n",
    "    \"\"\"\n",
    "    xA = max(boxA[0], boxB[0])\n",
    "    yA = max(boxA[1], boxB[1])\n",
    "    xB = min(boxA[2], boxB[2])\n",
    "    yB = min(boxA[3], boxB[3])\n",
    "    # intersection area\n",
    "    return (xB - xA + 1) * (yB - yA + 1)"
   ]
  },
  {
   "cell_type": "code",
   "execution_count": 25,
   "id": "902989c3-04b4-4947-983b-7343e0f07f0a",
   "metadata": {},
   "outputs": [],
   "source": [
    "def boxesIntersect(boxA, boxB):\n",
    "    \"\"\"\n",
    "    \n",
    "    2개의 box의 절대값 좌표를 받아 좌표값을 비교하여 box가 곂치는지 여부를 boolean타입으로 반환\n",
    "    \n",
    "    \n",
    "    \"\"\"\n",
    "    if boxA[0] > boxB[2]:\n",
    "        return False  # boxA is right of boxB\n",
    "    if boxB[0] > boxA[2]:\n",
    "        return False  # boxA is left of boxB\n",
    "    if boxA[3] < boxB[1]:\n",
    "        return False  # boxA is above boxB\n",
    "    if boxA[1] > boxB[3]:\n",
    "        return False  # boxA is below boxB\n",
    "    return True\n",
    "\n",
    "def iou(boxA, boxB):\n",
    "    \"\"\"\n",
    "    2개의 box의 좌표를 받아서 IoU를 반환\n",
    "    \"\"\"\n",
    "    if boxesIntersect(boxA, boxB) is False:\n",
    "        return 0\n",
    "    interArea = getIntersectionArea(boxA, boxB)\n",
    "    union = getUnionAreas(boxA, boxB, interArea=interArea)\n",
    "    \n",
    "    # intersection over union\n",
    "    result = interArea / union\n",
    "    assert result >= 0\n",
    "    return result"
   ]
  },
  {
   "cell_type": "code",
   "execution_count": 26,
   "id": "ec7c1191-273c-4c5b-9dcc-ea24429e9824",
   "metadata": {},
   "outputs": [],
   "source": [
    "def calculateAveragePrecision(rec, prec):\n",
    "    \n",
    "    mrec = [0] + [e for e in rec] + [1]\n",
    "    mpre = [0] + [e for e in prec] + [0]\n",
    "\n",
    "    for i in range(len(mpre)-1, 0, -1):\n",
    "        mpre[i-1] = max(mpre[i-1], mpre[i])\n",
    "\n",
    "    ii = []\n",
    "\n",
    "    for i in range(len(mrec)-1):\n",
    "        if mrec[1:][i] != mrec[0:-1][i]:\n",
    "            ii.append(i+1)\n",
    "\n",
    "    ap = 0\n",
    "    for i in ii:\n",
    "        ap = ap + np.sum((mrec[i] - mrec[i-1]) * mpre[i])\n",
    "    \n",
    "    return [ap, mpre[0:len(mpre)-1], mrec[0:len(mpre)-1], ii]"
   ]
  },
  {
   "cell_type": "code",
   "execution_count": 27,
   "id": "2feda2b0-f504-464f-901b-1b8af58bed67",
   "metadata": {},
   "outputs": [],
   "source": [
    "def ElevenPointInterpolatedAP(rec, prec):\n",
    "\n",
    "    mrec = [e for e in rec]\n",
    "    mpre = [e for e in prec]\n",
    "\n",
    "    recallValues = np.linspace(0, 1, 11)\n",
    "    recallValues = list(recallValues[::-1])\n",
    "    rhoInterp, recallValid = [], []\n",
    "\n",
    "    for r in recallValues:\n",
    "        argGreaterRecalls = np.argwhere(mrec[:] >= r)\n",
    "        pmax = 0\n",
    "\n",
    "        if argGreaterRecalls.size != 0:\n",
    "            pmax = max(mpre[argGreaterRecalls.min():])\n",
    "\n",
    "        recallValid.append(r)\n",
    "        rhoInterp.append(pmax)\n",
    "\n",
    "    ap = sum(rhoInterp) / 11\n",
    "\n",
    "    return [ap, rhoInterp, recallValues, None]"
   ]
  },
  {
   "cell_type": "code",
   "execution_count": 28,
   "id": "4b7f9f25-6b0d-456d-9d8e-d9c64a1bd50b",
   "metadata": {},
   "outputs": [],
   "source": [
    "def AP(detections, groundtruths, classes, IOUThreshold = 0.3, method = 'AP'):\n",
    "    \n",
    "    result = []\n",
    "    \n",
    "    for c in classes:\n",
    "\n",
    "        dects = [d for d in detections if d[1] == c]\n",
    "        gts = [g for g in groundtruths if g[1] == c]\n",
    "\n",
    "        npos = len(gts)\n",
    "\n",
    "        dects = sorted(dects, key = lambda conf : conf[2], reverse=True)\n",
    "\n",
    "        TP = np.zeros(len(dects))\n",
    "        FP = np.zeros(len(dects))\n",
    "\n",
    "        det = Counter(cc[0] for cc in gts)\n",
    "\n",
    "        # 각 이미지별 ground truth box의 수\n",
    "        # {99 : 2, 380 : 4, ....}\n",
    "        # {99 : [0, 0], 380 : [0, 0, 0, 0], ...}\n",
    "        for key, val in det.items():\n",
    "            det[key] = np.zeros(val)\n",
    "\n",
    "\n",
    "        for d in range(len(dects)):\n",
    "\n",
    "\n",
    "            gt = [gt for gt in gts if gt[0] == dects[d][0]]\n",
    "\n",
    "            iouMax = 0\n",
    "\n",
    "            for j in range(len(gt)):\n",
    "                iou1 = iou(dects[d][3], gt[j][3])\n",
    "                if iou1 > iouMax:\n",
    "                    iouMax = iou1\n",
    "                    jmax = j\n",
    "\n",
    "            if iouMax >= IOUThreshold:\n",
    "                if det[dects[d][0]][jmax] == 0:\n",
    "                    TP[d] = 1\n",
    "                    det[dects[d][0]][jmax] = 1\n",
    "                else:\n",
    "                    FP[d] = 1\n",
    "            else:\n",
    "                FP[d] = 1\n",
    "\n",
    "        acc_FP = np.cumsum(FP)\n",
    "        acc_TP = np.cumsum(TP)\n",
    "        rec = acc_TP / npos\n",
    "        prec = np.divide(acc_TP, (acc_FP + acc_TP))\n",
    "\n",
    "        if method == \"AP\":\n",
    "            [ap, mpre, mrec, ii] = calculateAveragePrecision(rec, prec)\n",
    "        else:\n",
    "            [ap, mpre, mrec, _] = ElevenPointInterpolatedAP(rec, prec)\n",
    "\n",
    "        r = {\n",
    "            'class' : c,\n",
    "            'precision' : prec,\n",
    "            'recall' : rec,\n",
    "            'AP' : ap,\n",
    "            'interpolated precision' : mpre,\n",
    "            'interpolated recall' : mrec,\n",
    "            'total positives' : npos,\n",
    "            'total TP' : np.sum(TP),\n",
    "            'total FP' : np.sum(FP)\n",
    "        }\n",
    "\n",
    "        result.append(r)\n",
    "\n",
    "    return result"
   ]
  },
  {
   "cell_type": "code",
   "execution_count": 29,
   "id": "fa91e949-cef5-420c-b5f1-1d0453a89f48",
   "metadata": {},
   "outputs": [
    {
     "name": "stdout",
     "output_type": "stream",
     "text": [
      "[15.0, 0.54974, 0.350926, 0.359896, 0.62037]\n",
      "[0.0, 0.570312, 0.375, 0.36875, 0.535185, 0.89402]\n"
     ]
    }
   ],
   "source": [
    "boxA = ['15', '0.549740', '0.350926', '0.359896', '0.620370']\n",
    "boxB = ['0' , '0.570312', '0.375', '0.36875' , '0.535185','0.89402']\n",
    "boxA = [float(i) for i in boxA]\n",
    "boxB = [float(i) for i in boxB]\n",
    "print(boxA)\n",
    "print(boxB)"
   ]
  },
  {
   "cell_type": "code",
   "execution_count": 30,
   "id": "c053b9f9-ad2f-4b9d-b3aa-e5209145fa8f",
   "metadata": {},
   "outputs": [
    {
     "name": "stdout",
     "output_type": "stream",
     "text": [
      "[0.369792, 0.04074100000000003, 0.729688, 0.661111]\n",
      "[0.38593700000000003, 0.10740749999999999, 0.7546870000000001, 0.6425925]\n"
     ]
    }
   ],
   "source": [
    "boxA = convertToAbsoluteValues(boxA)\n",
    "boxB = convertToAbsoluteValues(boxB)\n",
    "print(boxA)\n",
    "print(boxB)"
   ]
  },
  {
   "cell_type": "code",
   "execution_count": 31,
   "id": "b9013fbb-4137-4aab-9ef3-e4fa14e07abb",
   "metadata": {},
   "outputs": [
    {
     "name": "stdout",
     "output_type": "stream",
     "text": [
      "0.9201546131995996\n"
     ]
    }
   ],
   "source": [
    "IoU = iou(boxA, boxB)\n",
    "print(IoU)"
   ]
  },
  {
   "cell_type": "code",
   "execution_count": 32,
   "id": "f3bc65bf-5500-4de9-83f5-e931fb6f66ce",
   "metadata": {},
   "outputs": [],
   "source": [
    "import glob"
   ]
  },
  {
   "cell_type": "code",
   "execution_count": 39,
   "id": "3adc8435-50af-45db-9c3c-2ce2f8338175",
   "metadata": {},
   "outputs": [
    {
     "ename": "NotADirectoryError",
     "evalue": "[WinError 267] 디렉터리 이름이 올바르지 않습니다: 'C:/Users/qorwl/yolov5_py38/yolov5/test_vid_split/label\\\\frame1.txt'",
     "output_type": "error",
     "traceback": [
      "\u001b[1;31m---------------------------------------------------------------------------\u001b[0m",
      "\u001b[1;31mNotADirectoryError\u001b[0m                        Traceback (most recent call last)",
      "\u001b[1;32m~\\AppData\\Local\\Temp/ipykernel_11024/2997205861.py\u001b[0m in \u001b[0;36m<module>\u001b[1;34m\u001b[0m\n\u001b[0;32m      2\u001b[0m \u001b[0mimagePath\u001b[0m \u001b[1;33m=\u001b[0m \u001b[1;34m'C:/Users/qorwl/yolov5_py38/yolov5/runs/detect/test/label'\u001b[0m\u001b[1;33m\u001b[0m\u001b[1;33m\u001b[0m\u001b[0m\n\u001b[0;32m      3\u001b[0m \u001b[1;33m\u001b[0m\u001b[0m\n\u001b[1;32m----> 4\u001b[1;33m \u001b[0mdetections\u001b[0m\u001b[1;33m,\u001b[0m \u001b[0mgroundtruths\u001b[0m\u001b[1;33m,\u001b[0m \u001b[0mclasses\u001b[0m \u001b[1;33m=\u001b[0m \u001b[0mboundingBoxes\u001b[0m\u001b[1;33m(\u001b[0m \u001b[0mlabelPath\u001b[0m \u001b[1;33m,\u001b[0m \u001b[0mimagePath\u001b[0m \u001b[1;33m)\u001b[0m\u001b[1;33m\u001b[0m\u001b[1;33m\u001b[0m\u001b[0m\n\u001b[0m",
      "\u001b[1;32m~\\AppData\\Local\\Temp/ipykernel_11024/893453461.py\u001b[0m in \u001b[0;36mboundingBoxes\u001b[1;34m(labelPath, imagePath)\u001b[0m\n\u001b[0;32m      8\u001b[0m         \u001b[0mboxtypeDir\u001b[0m \u001b[1;33m=\u001b[0m \u001b[0mos\u001b[0m\u001b[1;33m.\u001b[0m\u001b[0mpath\u001b[0m\u001b[1;33m.\u001b[0m\u001b[0mjoin\u001b[0m\u001b[1;33m(\u001b[0m\u001b[0mlabelPath\u001b[0m\u001b[1;33m,\u001b[0m\u001b[0mboxtype\u001b[0m\u001b[1;33m)\u001b[0m\u001b[1;33m\u001b[0m\u001b[1;33m\u001b[0m\u001b[0m\n\u001b[0;32m      9\u001b[0m \u001b[1;33m\u001b[0m\u001b[0m\n\u001b[1;32m---> 10\u001b[1;33m         \u001b[1;32mfor\u001b[0m \u001b[0mlabelfile\u001b[0m \u001b[1;32min\u001b[0m \u001b[0mos\u001b[0m\u001b[1;33m.\u001b[0m\u001b[0mlistdir\u001b[0m\u001b[1;33m(\u001b[0m\u001b[0mboxtypeDir\u001b[0m\u001b[1;33m)\u001b[0m\u001b[1;33m:\u001b[0m\u001b[1;33m\u001b[0m\u001b[1;33m\u001b[0m\u001b[0m\n\u001b[0m\u001b[0;32m     11\u001b[0m             \u001b[0mfilename\u001b[0m \u001b[1;33m=\u001b[0m \u001b[0mos\u001b[0m\u001b[1;33m.\u001b[0m\u001b[0mpath\u001b[0m\u001b[1;33m.\u001b[0m\u001b[0msplitext\u001b[0m\u001b[1;33m(\u001b[0m\u001b[0mlabelfile\u001b[0m\u001b[1;33m)\u001b[0m\u001b[1;33m[\u001b[0m\u001b[1;36m0\u001b[0m\u001b[1;33m]\u001b[0m\u001b[1;33m\u001b[0m\u001b[1;33m\u001b[0m\u001b[0m\n\u001b[0;32m     12\u001b[0m             \u001b[1;32mwith\u001b[0m \u001b[0mopen\u001b[0m\u001b[1;33m(\u001b[0m\u001b[0mos\u001b[0m\u001b[1;33m.\u001b[0m\u001b[0mpath\u001b[0m\u001b[1;33m.\u001b[0m\u001b[0mjoin\u001b[0m\u001b[1;33m(\u001b[0m\u001b[0mboxtypeDir\u001b[0m\u001b[1;33m,\u001b[0m \u001b[0mlabelfile\u001b[0m\u001b[1;33m)\u001b[0m\u001b[1;33m)\u001b[0m \u001b[1;32mas\u001b[0m \u001b[0mf\u001b[0m\u001b[1;33m:\u001b[0m\u001b[1;33m\u001b[0m\u001b[1;33m\u001b[0m\u001b[0m\n",
      "\u001b[1;31mNotADirectoryError\u001b[0m: [WinError 267] 디렉터리 이름이 올바르지 않습니다: 'C:/Users/qorwl/yolov5_py38/yolov5/test_vid_split/label\\\\frame1.txt'"
     ]
    }
   ],
   "source": [
    "labelPath = 'C:/Users/qorwl/yolov5_py38/yolov5/test_vid_split/label'\n",
    "imagePath = 'C:/Users/qorwl/yolov5_py38/yolov5/runs/detect/test/label'\n",
    "\n",
    "detections, groundtruths, classes = boundingBoxes( labelPath , imagePath )"
   ]
  },
  {
   "cell_type": "code",
   "execution_count": null,
   "id": "3b73c7d0-1f12-4b81-a833-03acf24f3ae1",
   "metadata": {},
   "outputs": [],
   "source": []
  },
  {
   "cell_type": "code",
   "execution_count": null,
   "id": "51f9713a-cd46-4b46-8cff-23eb7d86c4f2",
   "metadata": {},
   "outputs": [],
   "source": []
  },
  {
   "cell_type": "code",
   "execution_count": null,
   "id": "b0e9e33a-0238-4806-adf3-72e6c58f9ca6",
   "metadata": {},
   "outputs": [],
   "source": []
  },
  {
   "cell_type": "code",
   "execution_count": null,
   "id": "6f8e3da7-2cae-4486-8a63-6048c72ed41c",
   "metadata": {},
   "outputs": [],
   "source": []
  },
  {
   "cell_type": "code",
   "execution_count": null,
   "id": "3766ae29-7acc-4832-93e6-96f85c160c0e",
   "metadata": {},
   "outputs": [],
   "source": []
  },
  {
   "cell_type": "code",
   "execution_count": null,
   "id": "730f92fc-04b8-4c02-b0cb-719e59ec4aff",
   "metadata": {},
   "outputs": [],
   "source": []
  }
 ],
 "metadata": {
  "kernelspec": {
   "display_name": "Python 3 (ipykernel)",
   "language": "python",
   "name": "python3"
  },
  "language_info": {
   "codemirror_mode": {
    "name": "ipython",
    "version": 3
   },
   "file_extension": ".py",
   "mimetype": "text/x-python",
   "name": "python",
   "nbconvert_exporter": "python",
   "pygments_lexer": "ipython3",
   "version": "3.9.7"
  }
 },
 "nbformat": 4,
 "nbformat_minor": 5
}
