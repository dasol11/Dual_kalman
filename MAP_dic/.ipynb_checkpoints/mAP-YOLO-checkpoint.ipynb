{
 "cells": [
  {
   "cell_type": "markdown",
   "metadata": {},
   "source": [
    "# Dependencies"
   ]
  },
  {
   "cell_type": "code",
   "execution_count": 1,
   "metadata": {
    "tags": []
   },
   "outputs": [],
   "source": [
    "import matplotlib.pyplot as plt\n",
    "import os\n",
    "import cv2 as cv\n",
    "import matplotlib.pyplot as plt\n",
    "import matplotlib.image as mpimg\n",
    "import numpy as np\n",
    "from collections import Counter\n",
    "import glob\n",
    "from natsort import natsorted\n",
    "from moviepy.editor import *\n"
   ]
  },
  {
   "cell_type": "markdown",
   "metadata": {},
   "source": [
    "# Bounding boxes"
   ]
  },
  {
   "cell_type": "code",
   "execution_count": 2,
   "metadata": {},
   "outputs": [],
   "source": [
    "# box : (centerX, centerY, width, height)\n",
    "def convertToAbsoluteValues(size, box):\n",
    "    \n",
    "    xIn = round(((2 * float(box[0]) - float(box[2])) * size[0] / 2))\n",
    "    yIn = round(((2 * float(box[1]) - float(box[3])) * size[1] / 2))\n",
    "    xEnd = xIn + round(float(box[2]) * size[0])\n",
    "    yEnd = yIn + round(float(box[3]) * size[1])\n",
    "    \n",
    "    if xIn < 0:\n",
    "        xIn = 0\n",
    "    if yIn < 0:\n",
    "        yIn = 0\n",
    "    if xEnd >= size[0]:\n",
    "        xEnd = size[0] - 1\n",
    "    if yEnd >= size[1]:\n",
    "        yEnd = size[1] - 1\n",
    "    return (xIn, yIn, xEnd, yEnd)\n",
    "\n",
    "# def convertToRelativeValues(size, box):\n",
    "#     dw = 1. / (size[0])\n",
    "#     dh = 1. / (size[1])\n",
    "#     cx = (box[1] + box[0]) / 2.0\n",
    "#     cy = (box[3] + box[2]) / 2.0\n",
    "#     w = box[1] - box[0]\n",
    "#     h = box[3] - box[2]\n",
    "#     x = cx * dw\n",
    "#     y = cy * dh\n",
    "#     w = w * dw\n",
    "#     h = h * dh\n",
    "#     # x,y => (bounding_box_center)/width_of_the_image\n",
    "#     # w => bounding_box_width / width_of_the_image\n",
    "#     # h => bounding_box_height / height_of_the_image\n",
    "#     return (x, y, w, h)"
   ]
  },
  {
   "cell_type": "code",
   "execution_count": 3,
   "metadata": {},
   "outputs": [],
   "source": [
    "def boundingBoxes(labelPath, imagePath):\n",
    "    \n",
    "    detections, groundtruths, classes = [], [], []\n",
    "    \n",
    "    for boxtype in os.listdir(labelPath):\n",
    "\n",
    "        boxtypeDir = os.path.join(labelPath,boxtype)\n",
    "        \n",
    "        for labelfile in os.listdir(boxtypeDir):\n",
    "            filename = os.path.splitext(labelfile)[0]\n",
    "            with open(os.path.join(boxtypeDir, labelfile)) as f: \n",
    "                labelinfos = f.readlines()   #텍스트 파일에 입력된 정보\n",
    "\n",
    "            imgfilepath = os.path.join(imagePath, filename + \".jpg\")\n",
    "            img = cv.imread(imgfilepath)\n",
    "            h, w, _ = img.shape\n",
    "\n",
    "            for labelinfo in labelinfos:\n",
    "                \n",
    "                label, conf, rx1, ry1, rx2, ry2 = map(float, labelinfo.strip().split())\n",
    "                x1, y1, x2, y2 = convertToAbsoluteValues((w, h), (rx1, ry1, rx2, ry2))\n",
    "                boxinfo = [filename, label, conf, (x1, y1, x2, y2)]\n",
    "                \n",
    "                if label not in classes:\n",
    "                    classes.append(label)\n",
    "                \n",
    "                if boxtype == \"detection\":\n",
    "                    detections.append(boxinfo)\n",
    "                else:\n",
    "                    groundtruths.append(boxinfo)\n",
    "                    \n",
    "    classes = sorted(classes)\n",
    "                \n",
    "    return detections, groundtruths, classes"
   ]
  },
  {
   "cell_type": "markdown",
   "metadata": {},
   "source": [
    "# Plot Bounding boxes"
   ]
  },
  {
   "cell_type": "code",
   "execution_count": 4,
   "metadata": {},
   "outputs": [],
   "source": [
    "def boxPlot(boxlist, imagePath, savePath):\n",
    "    labelfiles = sorted(list(set([filename for filename, _, _, _ in boxlist])))\n",
    "    \n",
    "    for labelfile in labelfiles:\n",
    "    \n",
    "        rectinfos = []\n",
    "        imgfilePath = os.path.join(imagePath, labelfile + \".jpg\")\n",
    "        img = cv.imread(imgfilePath)\n",
    "\n",
    "        for filename, _, conf, (x1, y1, x2, y2) in boxlist:\n",
    "            if labelfile == filename:\n",
    "                rectinfos.append((x1, y1, x2, y2, conf))\n",
    "                \n",
    "        for x1, y1, x2, y2, conf in rectinfos:\n",
    "            \n",
    "            if conf == 1.0:\n",
    "                rectcolor = (0, 255, 0)\n",
    "            else:\n",
    "                rectcolor = (0, 0, 255)\n",
    "                \n",
    "            cv.rectangle(img, (x1, y1), (x2, y2), rectcolor, 4)\n",
    "        cv.imwrite(f\"{savePath}/{labelfile}.jpg\", img)\n",
    "\n",
    "        img = mpimg.imread(f\"{savePath}/{labelfile}.jpg\")\n",
    "        plt.axis(\"off\")\n",
    "        plt.imshow(img)\n",
    "        plt.show()\n",
    "        "
   ]
  },
  {
   "cell_type": "markdown",
   "metadata": {
    "tags": []
   },
   "source": [
    "# IoU(Intersection over Union)"
   ]
  },
  {
   "cell_type": "code",
   "execution_count": 5,
   "metadata": {},
   "outputs": [],
   "source": [
    "def getArea(box):\n",
    "    return (box[2] - box[0] + 1) * (box[3] - box[1] + 1)\n",
    "\n",
    "\n",
    "def getUnionAreas(boxA, boxB, interArea=None):\n",
    "    area_A = getArea(boxA)\n",
    "    area_B = getArea(boxB)\n",
    "    \n",
    "    if interArea is None:\n",
    "        interArea = getIntersectionArea(boxA, boxB)\n",
    "        \n",
    "    return float(area_A + area_B - interArea)\n",
    "\n",
    "def getIntersectionArea(boxA, boxB):\n",
    "    xA = max(boxA[0], boxB[0])\n",
    "    yA = max(boxA[1], boxB[1])\n",
    "    xB = min(boxA[2], boxB[2])\n",
    "    yB = min(boxA[3], boxB[3])\n",
    "    # intersection area\n",
    "    return (xB - xA + 1) * (yB - yA + 1)\n",
    "\n",
    "# boxA = (Ax1,Ay1,Ax2,Ay2)\n",
    "# boxB = (Bx1,By1,Bx2,By2)\n",
    "def boxesIntersect(boxA, boxB):\n",
    "    if boxA[0] > boxB[2]:\n",
    "        return False  # boxA is right of boxB\n",
    "    if boxB[0] > boxA[2]:\n",
    "        return False  # boxA is left of boxB\n",
    "    if boxA[3] < boxB[1]:\n",
    "        return False  # boxA is above boxB\n",
    "    if boxA[1] > boxB[3]:\n",
    "        return False  # boxA is below boxB\n",
    "    return True\n",
    "\n",
    "def iou(boxA, boxB):\n",
    "    # if boxes dont intersect\n",
    "    if boxesIntersect(boxA, boxB) is False:\n",
    "        return 0\n",
    "    interArea = getIntersectionArea(boxA, boxB)\n",
    "    union = getUnionAreas(boxA, boxB, interArea=interArea)\n",
    "    \n",
    "    # intersection over union\n",
    "    result = interArea / union\n",
    "    assert result >= 0\n",
    "    return result"
   ]
  },
  {
   "cell_type": "markdown",
   "metadata": {
    "tags": []
   },
   "source": [
    "# AP(Average Precision)"
   ]
  },
  {
   "cell_type": "code",
   "execution_count": 6,
   "metadata": {},
   "outputs": [],
   "source": [
    "def calculateAveragePrecision(rec, prec):\n",
    "    \n",
    "    mrec = [0] + [e for e in rec] + [1]\n",
    "    mpre = [0] + [e for e in prec] + [0]\n",
    "\n",
    "    for i in range(len(mpre)-1, 0, -1):\n",
    "        mpre[i-1] = max(mpre[i-1], mpre[i])\n",
    "\n",
    "    ii = []\n",
    "\n",
    "    for i in range(len(mrec)-1):\n",
    "        if mrec[1:][i] != mrec[0:-1][i]:\n",
    "            ii.append(i+1)\n",
    "\n",
    "    ap = 0\n",
    "    for i in ii:\n",
    "        ap = ap + np.sum((mrec[i] - mrec[i-1]) * mpre[i])\n",
    "    \n",
    "    return [ap, mpre[0:len(mpre)-1], mrec[0:len(mpre)-1], ii]"
   ]
  },
  {
   "cell_type": "code",
   "execution_count": 7,
   "metadata": {},
   "outputs": [],
   "source": [
    "def ElevenPointInterpolatedAP(rec, prec):\n",
    "\n",
    "    mrec = [e for e in rec]\n",
    "    mpre = [e for e in prec]\n",
    "\n",
    "    recallValues = np.linspace(0, 1, 11)\n",
    "    recallValues = list(recallValues[::-1])\n",
    "    rhoInterp, recallValid = [], []\n",
    "\n",
    "    for r in recallValues:\n",
    "        argGreaterRecalls = np.argwhere(mrec[:] >= r)\n",
    "        pmax = 0\n",
    "\n",
    "        if argGreaterRecalls.size != 0:\n",
    "            pmax = max(mpre[argGreaterRecalls.min():])\n",
    "\n",
    "        recallValid.append(r)\n",
    "        rhoInterp.append(pmax)\n",
    "\n",
    "    ap = sum(rhoInterp) / 11\n",
    "\n",
    "    return [ap, rhoInterp, recallValues, None]"
   ]
  },
  {
   "cell_type": "code",
   "execution_count": 8,
   "metadata": {},
   "outputs": [],
   "source": [
    "def AP(detections, groundtruths, classes, IOUThreshold = 0.4, method = 'AP'):\n",
    "    \n",
    "    result = []\n",
    "    \n",
    "    for c in classes:\n",
    "\n",
    "        dects = [d for d in detections if d[1] == c]\n",
    "        gts = [g for g in groundtruths if g[1] == c]\n",
    "\n",
    "        npos = len(gts)\n",
    "\n",
    "        dects = sorted(dects, key = lambda conf : conf[2], reverse=True)\n",
    "\n",
    "        TP = np.zeros(len(dects))\n",
    "        FP = np.zeros(len(dects))\n",
    "\n",
    "        det = Counter(cc[0] for cc in gts)\n",
    "\n",
    "        # 각 이미지별 ground truth box의 수\n",
    "        # {99 : 2, 380 : 4, ....}\n",
    "        # {99 : [0, 0], 380 : [0, 0, 0, 0], ...}\n",
    "        for key, val in det.items():\n",
    "            det[key] = np.zeros(val)\n",
    "\n",
    "\n",
    "        for d in range(len(dects)):\n",
    "\n",
    "\n",
    "            gt = [gt for gt in gts if gt[0] == dects[d][0]]\n",
    "\n",
    "            iouMax = 0\n",
    "\n",
    "            for j in range(len(gt)):\n",
    "                iou1 = iou(dects[d][3], gt[j][3])\n",
    "                if iou1 > iouMax:\n",
    "                    iouMax = iou1\n",
    "                    jmax = j\n",
    "\n",
    "            if iouMax >= IOUThreshold:\n",
    "                if det[dects[d][0]][jmax] == 0:\n",
    "                    TP[d] = 1\n",
    "                    det[dects[d][0]][jmax] = 1\n",
    "                else:\n",
    "                    FP[d] = 1\n",
    "            else:\n",
    "                FP[d] = 1\n",
    "\n",
    "        acc_FP = np.cumsum(FP)\n",
    "        acc_TP = np.cumsum(TP)\n",
    "        rec = acc_TP / npos\n",
    "        prec = np.divide(acc_TP, (acc_FP + acc_TP))\n",
    "\n",
    "        if method == \"AP\":\n",
    "            [ap, mpre, mrec, ii] = calculateAveragePrecision(rec, prec)\n",
    "        else:\n",
    "            [ap, mpre, mrec, _] = ElevenPointInterpolatedAP(rec, prec)\n",
    "\n",
    "        r = {\n",
    "            'class' : c,\n",
    "            'precision' : prec,\n",
    "            'recall' : rec,\n",
    "            'AP' : ap,\n",
    "            'interpolated precision' : mpre,\n",
    "            'interpolated recall' : mrec,\n",
    "            'total positives' : npos,\n",
    "            'total TP' : np.sum(TP),\n",
    "            'total FP' : np.sum(FP)\n",
    "        }\n",
    "\n",
    "        result.append(r)\n",
    "\n",
    "    return result\n",
    "\n"
   ]
  },
  {
   "cell_type": "markdown",
   "metadata": {},
   "source": [
    "# mAP(mean Average Precision)"
   ]
  },
  {
   "cell_type": "code",
   "execution_count": 9,
   "metadata": {},
   "outputs": [],
   "source": [
    "def mAP(result):\n",
    "    ap = 0\n",
    "    for r in result:\n",
    "        ap += r['AP']\n",
    "    mAP = ap / len(result)\n",
    "    \n",
    "    return mAP"
   ]
  },
  {
   "cell_type": "markdown",
   "metadata": {},
   "source": [
    "# Class "
   ]
  },
  {
   "cell_type": "code",
   "execution_count": 10,
   "metadata": {},
   "outputs": [],
   "source": [
    "num2class = {\"0.0\" : \"drone\"}"
   ]
  },
  {
   "cell_type": "markdown",
   "metadata": {},
   "source": [
    "# Save Bbox"
   ]
  },
  {
   "cell_type": "code",
   "execution_count": 11,
   "metadata": {},
   "outputs": [],
   "source": [
    "label_path = \"C:/Users/qorwl/yolov5_py38/MAP_dic/label\"\n",
    "image_path = \"C:/Users/qorwl/yolov5_py38/MAP_dic/image\"\n",
    "\n",
    "detections, groundtruths, classes = boundingBoxes(label_path, image_path)\n"
   ]
  },
  {
   "cell_type": "code",
   "execution_count": 12,
   "metadata": {},
   "outputs": [
    {
     "name": "stdout",
     "output_type": "stream",
     "text": [
      "Detection Success Frames : 199\n",
      "Groundtruth Frames : 502\n",
      "Number of Classes : 1\n"
     ]
    }
   ],
   "source": [
    "print(\"Detection Success Frames : %d\"%len(detections))\n",
    "print(\"Groundtruth Frames : %d\"%len(groundtruths))\n",
    "print(\"Number of Classes : %d\"%len(classes))"
   ]
  },
  {
   "cell_type": "markdown",
   "metadata": {
    "tags": []
   },
   "source": [
    "# Save Bbox Image"
   ]
  },
  {
   "cell_type": "code",
   "execution_count": 1,
   "metadata": {},
   "outputs": [
    {
     "ename": "NameError",
     "evalue": "name 'boxPlot' is not defined",
     "output_type": "error",
     "traceback": [
      "\u001b[0;31m---------------------------------------------------------------------------\u001b[0m",
      "\u001b[0;31mNameError\u001b[0m                                 Traceback (most recent call last)",
      "Input \u001b[0;32mIn [1]\u001b[0m, in \u001b[0;36m<module>\u001b[0;34m\u001b[0m\n\u001b[1;32m      1\u001b[0m \u001b[38;5;66;03m# boxPlot(detections, \"image\", savePath=\"boxed_images/detection\")\u001b[39;00m\n\u001b[1;32m      2\u001b[0m \u001b[38;5;66;03m# boxPlot(groundtruths, \"image\", savePath=\"boxed_images/groundtruth\")\u001b[39;00m\n\u001b[1;32m      3\u001b[0m savePath\u001b[38;5;241m=\u001b[39m\u001b[38;5;124m\"\u001b[39m\u001b[38;5;124mboxed_images/both\u001b[39m\u001b[38;5;124m\"\u001b[39m\n\u001b[0;32m----> 4\u001b[0m \u001b[43mboxPlot\u001b[49m(detections \u001b[38;5;241m+\u001b[39m groundtruths, \u001b[38;5;124m\"\u001b[39m\u001b[38;5;124mimage\u001b[39m\u001b[38;5;124m\"\u001b[39m, savePath)\n",
      "\u001b[0;31mNameError\u001b[0m: name 'boxPlot' is not defined"
     ]
    }
   ],
   "source": [
    "# boxPlot(detections, \"image\", savePath=\"boxed_images/detection\")\n",
    "# boxPlot(groundtruths, \"image\", savePath=\"boxed_images/groundtruth\")\n",
    "savePath=\"boxed_images/both\"\n",
    "boxPlot(detections + groundtruths, \"image\", savePath)"
   ]
  },
  {
   "cell_type": "markdown",
   "metadata": {
    "tags": []
   },
   "source": [
    "# Save AVI File"
   ]
  },
  {
   "cell_type": "code",
   "execution_count": 15,
   "metadata": {},
   "outputs": [],
   "source": [
    "img_array = []\n",
    "\n",
    "for filename in natsorted(glob.glob(savePath+'/*.jpg')):\n",
    "    \n",
    "    img = cv.imread(filename)\n",
    "    \n",
    "    h, w, layers = img.shape\n",
    "    size = ( w , h )\n",
    "    img_array.append(img)\n",
    "        \n",
    "out = cv.VideoWriter('YOLO_Result.avi', cv.VideoWriter_fourcc(*'DIVX'), 30,  size)\n",
    "for i in range(len(img_array)):\n",
    "    out.write(img_array[i])\n",
    "out.release()\n",
    "    \n"
   ]
  },
  {
   "cell_type": "markdown",
   "metadata": {
    "tags": []
   },
   "source": [
    "# Save GIF File"
   ]
  },
  {
   "cell_type": "code",
   "execution_count": 16,
   "metadata": {},
   "outputs": [
    {
     "name": "stdout",
     "output_type": "stream",
     "text": [
      "MoviePy - Building file YOLO_Result.gif with imageio.\n"
     ]
    },
    {
     "name": "stderr",
     "output_type": "stream",
     "text": [
      "                                                              \r"
     ]
    }
   ],
   "source": [
    "VideoFileClip('YOLO_Result.avi').speedx(4).write_gif('YOLO_Result.gif')\n"
   ]
  },
  {
   "cell_type": "markdown",
   "metadata": {
    "tags": []
   },
   "source": [
    "# Save IOU "
   ]
  },
  {
   "cell_type": "code",
   "execution_count": 17,
   "metadata": {},
   "outputs": [],
   "source": [
    "\n",
    "iou_list= []\n",
    "\n",
    "count = 1\n",
    "# 검출된 프레임의 iou를 구하여 프레임과 iou를 저장\n",
    "# ( Frame* , IoU )\n",
    "for groundtruth in groundtruths: \n",
    "    for detection in detections:\n",
    "        if detection[0] == groundtruth[0]:\n",
    "            iou_list.append([detection[0] , iou(detection[-1] , groundtruth[-1])])\n",
    "            \n",
    "        \n",
    "                \n",
    "#프레임수로 정렬\n",
    "iou_list = natsorted(iou_list)           \n",
    "# \"frame\" 제거후 정수형으로 전환\n",
    "for i in iou_list:\n",
    "    i[0] = int(i[0].strip('frame'))\n",
    "#이중 리스트에서 numpy array로 변환\n",
    "iou_array = np.array(iou_list)"
   ]
  },
  {
   "cell_type": "code",
   "execution_count": 18,
   "metadata": {},
   "outputs": [],
   "source": [
    "index_list = []\n",
    "for frame_index in iou_array[:,0]:\n",
    "    index_list.append(int(frame_index))\n",
    "\n",
    "for frame_index in range(1 , len(groundtruths)+1):\n",
    "    if frame_index  not in index_list:\n",
    "        iou_array = np.append(iou_array, np.array([[frame_index, 0]]), axis=0)\n",
    "\n",
    "        \n",
    "iou_array = iou_array[np.lexsort(np.fliplr(iou_array).T)]\n",
    "\n",
    "x = []\n",
    "y = []\n",
    "for i in iou_array:\n",
    "    x.append(i[0])\n",
    "    y.append(i[1])\n",
    "    \n"
   ]
  },
  {
   "cell_type": "code",
   "execution_count": 19,
   "metadata": {},
   "outputs": [
    {
     "data": {
      "image/png": "[encoded data removed]",
      "text/plain": [
       "<Figure size 432x288 with 1 Axes>"
      ]
     },
     "metadata": {
      "needs_background": "light"
     },
     "output_type": "display_data"
    }
   ],
   "source": [
    "box = {'facecolor':'0.75',\n",
    "       'edgecolor':'k',\n",
    "       'boxstyle': 'round',\n",
    "       \n",
    "}\n",
    "plt.title(\"The result of detection throgh YOLO\", size = 15)\n",
    "plt.ylabel(\"IoU\", size = 15)\n",
    "plt.xlabel(\"Frame\", size = 15)\n",
    "\n",
    "plt.text(200, 0.05, \"Detection fail\", c = 'b', bbox = box)\n",
    "plt.plot(x,y ,c = \"k\")\n",
    "\n",
    "#이미지 저장 유무\n",
    "#plt.savefig(\"YOLO_IOU.jpg\")\n",
    "\n",
    "\n",
    "plt.show()"
   ]
  },
  {
   "cell_type": "markdown",
   "metadata": {},
   "source": [
    "# AP Result"
   ]
  },
  {
   "cell_type": "code",
   "execution_count": 24,
   "metadata": {},
   "outputs": [],
   "source": [
    "result = AP(detections, groundtruths, classes)"
   ]
  },
  {
   "cell_type": "code",
   "execution_count": 25,
   "metadata": {},
   "outputs": [
    {
     "name": "stdout",
     "output_type": "stream",
     "text": [
      " drone   AP : 0.39641434262948205\n",
      "---------------------------\n",
      "mAP : 0.39641434262948205\n"
     ]
    }
   ],
   "source": [
    "for r in result:\n",
    "    print(\"{:^8} AP : {}\".format(num2class[str(r['class'])], r['AP']))\n",
    "print(\"---------------------------\")\n",
    "print(f\"mAP : {mAP(result)}\")"
   ]
  },
  {
   "cell_type": "code",
   "execution_count": null,
   "metadata": {},
   "outputs": [],
   "source": []
  }
 ],
 "metadata": {
  "kernelspec": {
   "display_name": "Python 3 (ipykernel)",
   "language": "python",
   "name": "python3"
  },
  "language_info": {
   "codemirror_mode": {
    "name": "ipython",
    "version": 3
   },
   "file_extension": ".py",
   "mimetype": "text/x-python",
   "name": "python",
   "nbconvert_exporter": "python",
   "pygments_lexer": "ipython3",
   "version": "3.8.12"
  }
 },
 "nbformat": 4,
 "nbformat_minor": 4
}
