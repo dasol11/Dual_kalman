{
 "cells": [
  {
   "cell_type": "code",
   "execution_count": 2,
   "id": "cfe2090e",
   "metadata": {},
   "outputs": [],
   "source": [
    "import matplotlib.pyplot as plt\n",
    "import os\n",
    "import cv2 as cv\n",
    "import matplotlib.pyplot as plt\n",
    "import matplotlib.image as mpimg\n",
    "import numpy as np\n",
    "from collections import Counter\n",
    "import glob\n",
    "from natsort import natsorted\n",
    "import shutil"
   ]
  },
  {
   "cell_type": "code",
   "execution_count": 10,
   "id": "05992a3e",
   "metadata": {},
   "outputs": [],
   "source": [
    "ver_list = ['YOLO','Kalman']#YOLO 제외\n",
    "model_list = ['n','s','m','l','xl']\n",
    "num_list = ['','2','3','4','5']\n",
    "label_path = \"./MAP_dic/label/groundtruth\"\n"
   ]
  },
  {
   "cell_type": "markdown",
   "id": "89f8aaec",
   "metadata": {},
   "source": [
    "# YOLO Result Preprocessing"
   ]
  },
  {
   "cell_type": "code",
   "execution_count": 11,
   "id": "3c0fe4e2",
   "metadata": {},
   "outputs": [],
   "source": [
    "for ver_name in ver_list:\n",
    "    for model_name in model_list:\n",
    "        for num in num_list:\n",
    "            #경로설정\n",
    "            detection_dic = ('./yolo/runs/detect/' + ver_name + '_' + model_name +'_result' + num + '/labels' )\n",
    "            saver_dic = ('./yolo/prep_detect/' + ver_name + '/' + model_name + '_labels' + num + '/detection' )\n",
    "            saver_ground = ('./yolo/prep_detect/' + ver_name + '/' + model_name +'_labels' + num + '/groundtruth' )\n",
    "        \n",
    "            #저장 경로 만들어주기 \n",
    "            os.makedirs(saver_dic, exist_ok=True)\n",
    "\n",
    "            #groundtrue 넣어주기\n",
    "            shutil.copytree(label_path, saver_ground)\n",
    "\n",
    "            #labelPath == txt 파일 \n",
    "            for labelPath in os.listdir(detection_dic):\n",
    "\n",
    "                with open (detection_dic + '/' + labelPath, 'r') as f:\n",
    "                    line = f.readline()\n",
    "                    string = line.split()\n",
    "                    string.insert(1,string[5])\n",
    "                    del string[6]\n",
    "                    line = \" \".join(string)\n",
    "\n",
    "                with open(saver_dic + '/' + labelPath, \"w\") as f:\n",
    "                    f.write(line)   \n"
   ]
  },
  {
   "cell_type": "code",
   "execution_count": 4,
   "id": "8703e29b",
   "metadata": {},
   "outputs": [
    {
     "data": {
      "text/plain": [
       "'/workspace'"
      ]
     },
     "execution_count": 4,
     "metadata": {},
     "output_type": "execute_result"
    }
   ],
   "source": [
    "pwd"
   ]
  },
  {
   "cell_type": "code",
   "execution_count": null,
   "id": "7d4d1e20",
   "metadata": {},
   "outputs": [],
   "source": []
  },
  {
   "cell_type": "code",
   "execution_count": null,
   "id": "261ff13c",
   "metadata": {},
   "outputs": [],
   "source": []
  },
  {
   "cell_type": "code",
   "execution_count": null,
   "id": "9119a3f3",
   "metadata": {},
   "outputs": [],
   "source": []
  },
  {
   "cell_type": "code",
   "execution_count": null,
   "id": "c386231d",
   "metadata": {},
   "outputs": [],
   "source": []
  },
  {
   "cell_type": "code",
   "execution_count": null,
   "id": "44351c9a",
   "metadata": {},
   "outputs": [],
   "source": []
  },
  {
   "cell_type": "code",
   "execution_count": null,
   "id": "7c967e76",
   "metadata": {},
   "outputs": [],
   "source": []
  },
  {
   "cell_type": "code",
   "execution_count": null,
   "id": "406b4bb2",
   "metadata": {},
   "outputs": [],
   "source": []
  },
  {
   "cell_type": "code",
   "execution_count": null,
   "id": "980f7413",
   "metadata": {},
   "outputs": [],
   "source": []
  },
  {
   "cell_type": "code",
   "execution_count": null,
   "id": "9c0b1913",
   "metadata": {},
   "outputs": [],
   "source": []
  },
  {
   "cell_type": "code",
   "execution_count": null,
   "id": "2b7f9653",
   "metadata": {},
   "outputs": [],
   "source": []
  },
  {
   "cell_type": "code",
   "execution_count": null,
   "id": "6f87a6bb",
   "metadata": {},
   "outputs": [],
   "source": []
  },
  {
   "cell_type": "code",
   "execution_count": null,
   "id": "e4af2ac7",
   "metadata": {},
   "outputs": [],
   "source": []
  }
 ],
 "metadata": {
  "kernelspec": {
   "display_name": "Python 3 (ipykernel)",
   "language": "python",
   "name": "python3"
  },
  "language_info": {
   "codemirror_mode": {
    "name": "ipython",
    "version": 3
   },
   "file_extension": ".py",
   "mimetype": "text/x-python",
   "name": "python",
   "nbconvert_exporter": "python",
   "pygments_lexer": "ipython3",
   "version": "3.8.12"
  }
 },
 "nbformat": 4,
 "nbformat_minor": 5
}
